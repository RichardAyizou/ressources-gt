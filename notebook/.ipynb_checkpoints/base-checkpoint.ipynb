{
 "cells": [
  {
   "cell_type": "code",
   "execution_count": null,
   "id": "22ca0c57",
   "metadata": {},
   "outputs": [],
   "source": [
    "import pandas as pd\n",
    "import numpy as np\n",
    "\n",
    "import warnings\n",
    "warnings.filterwarnings(\"ignore\")"
   ]
  },
  {
   "cell_type": "code",
   "execution_count": null,
   "id": "9a5cd901",
   "metadata": {},
   "outputs": [],
   "source": [
    "# cdr data\n",
    "%run cdr_by_hour.ipynb\n",
    "%run cdr_by_month.ipynb\n",
    "%run cdr_total.ipynb\n",
    "%run cdr_by_week.ipynb\n",
    "%run cdr_by_weekdays.ipynb\n",
    "\n",
    "coarse_grained_mobility = pd.read_excel(\"../coarse_grained_mobility.xlsx\")\n",
    "coarse_grained_mobility[\"id_district\"] = coarse_grained_mobility[\"arrid\"]\n",
    "coarse_grained_mobility.drop(columns=\"arrid\", inplace=True)\n",
    "\n",
    "base_cdr = pd.DataFrame({\"id_district\": range(1,124)})\n",
    "for my_df in [df_heure, df_mois, df_total, df_week, df_weekday, coarse_grained_mobility]:\n",
    "    base_cdr = pd.merge(base_cdr, my_df, on=\"id_district\")\n",
    "\n",
    "# Missing values CDR\n",
    "var_cdr_avec_missing = []\n",
    "for i in base_cdr.columns:\n",
    "    if base_cdr[i].isna().sum()>0:\n",
    "        var_cdr_avec_missing.append(i)\n",
    "\n",
    "base_cdr.drop(columns=var_cdr_avec_missing, inplace=True)\n",
    "\n",
    "# Demographics data\n",
    "%run demographics.ipynb\n",
    "\n",
    "# Missing values demographics data\n",
    "var_demo_avec_missing = []\n",
    "for i in demographic.columns:\n",
    "    if demographic[i].isna().sum()>0:\n",
    "        var_demo_avec_missing.append(i)\n",
    "\n",
    "demographic.drop(columns=var_demo_avec_missing, inplace=True)\n",
    "\n",
    "# final database\n",
    "donnees = pd.merge(base_cdr, demographic, on=\"id_district\")\n",
    "donnees.shape"
   ]
  },
  {
   "cell_type": "code",
   "execution_count": null,
   "id": "03b76fcb",
   "metadata": {},
   "outputs": [],
   "source": [
    "demographic.to_csv(\"../resultats_tableaux/demographic.csv\",index=False)"
   ]
  },
  {
   "cell_type": "code",
   "execution_count": null,
   "id": "01d0e773",
   "metadata": {},
   "outputs": [],
   "source": [
    "list(coarse_grained_mobility.columns)"
   ]
  },
  {
   "cell_type": "code",
   "execution_count": null,
   "id": "52292af5",
   "metadata": {},
   "outputs": [],
   "source": []
  }
 ],
 "metadata": {
  "kernelspec": {
   "display_name": "Python 3 (ipykernel)",
   "language": "python",
   "name": "python3"
  },
  "language_info": {
   "codemirror_mode": {
    "name": "ipython",
    "version": 3
   },
   "file_extension": ".py",
   "mimetype": "text/x-python",
   "name": "python",
   "nbconvert_exporter": "python",
   "pygments_lexer": "ipython3",
   "version": "3.9.13"
  }
 },
 "nbformat": 4,
 "nbformat_minor": 5
}
