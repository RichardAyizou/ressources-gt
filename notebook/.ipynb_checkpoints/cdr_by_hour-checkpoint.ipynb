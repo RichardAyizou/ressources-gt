{
 "cells": [
  {
   "cell_type": "code",
   "execution_count": null,
   "id": "5cd7b075",
   "metadata": {},
   "outputs": [],
   "source": [
    "import pandas as pd\n",
    "import numpy as np\n",
    "\n",
    "import warnings\n",
    "warnings.filterwarnings(\"ignore\")"
   ]
  },
  {
   "cell_type": "code",
   "execution_count": null,
   "id": "39ec2ca5",
   "metadata": {},
   "outputs": [],
   "source": [
    "text_hour_district = pd.read_table(\"../text_hour_district.txt\", sep=',', header=None)\n",
    "\n",
    "# renommer les colonnes\n",
    "col_name_text_hour_district = {\n",
    "    0: \"heure\",\n",
    "    1: \"district_depart\",\n",
    "    2: \"district_destination\",\n",
    "    3: \"nombre_text\"\n",
    "}\n",
    "text_hour_district.rename(columns=col_name_text_hour_district, inplace=True)\n",
    "\n",
    "# nouvelle base\n",
    "df_heure_text = pd.DataFrame({\"id_district\":range(0,124)})\n",
    "\n",
    "for h in range(0,24):\n",
    "    # filtrer par heure\n",
    "    df = text_hour_district[text_hour_district[\"heure\"]==h]\n",
    "    # total de message que chaque district envoie aux autres chaque heure\n",
    "    df_heure_text[\"nb_msg_{}h\".format(h)]= df[[\"district_depart\", \"nombre_text\"]].groupby(\"district_depart\").sum()\n",
    "    # nombre moyen de message qui sort de chaque district par heure\n",
    "    df_heure_text[\"nb_moyen_msg_{}h\".format(h)]= df[[\"district_depart\", \"nombre_text\"]].groupby(\"district_depart\").mean()\n",
    "    # nombre minimum de message qui sort de chaque district par heure\n",
    "    df_heure_text[\"nb_min_msg_{}h\".format(h)]= df[[\"district_depart\", \"nombre_text\"]].groupby(\"district_depart\").min()\n",
    "    # nombre maximum de message qui sort de chaque district par heure\n",
    "    df_heure_text[\"nb_max_msg_{}h\".format(h)]= df[[\"district_depart\", \"nombre_text\"]].groupby(\"district_depart\").max()\n",
    "    # transformation logarithmique\n",
    "    df_heure_text[\"log_nb_msg_{}h\".format(h)]= np.log(df[[\"district_depart\", \"nombre_text\"]].groupby(\"district_depart\").sum())\n",
    "    df_heure_text[\"log_nb_moyen_msg_{}h\".format(h)]= np.log(df[[\"district_depart\", \"nombre_text\"]].groupby(\"district_depart\").mean())\n",
    "    # transformation racine carrée\n",
    "    df_heure_text[\"sqrt_nb_msg_{}h\".format(h)]= np.sqrt(df[[\"district_depart\", \"nombre_text\"]].groupby(\"district_depart\").sum())\n",
    "    df_heure_text[\"sqrt_nb_moyen_msg_{}h\".format(h)]= np.sqrt(df[[\"district_depart\", \"nombre_text\"]].groupby(\"district_depart\").mean())\n",
    "    \n",
    "df_heure_text = df_heure_text.iloc[1:,:]"
   ]
  },
  {
   "cell_type": "code",
   "execution_count": null,
   "id": "d247f0b6",
   "metadata": {},
   "outputs": [],
   "source": [
    "df_heure_text.head()"
   ]
  },
  {
   "cell_type": "code",
   "execution_count": null,
   "id": "50129b35",
   "metadata": {},
   "outputs": [],
   "source": [
    "df_heure_text.shape"
   ]
  },
  {
   "cell_type": "code",
   "execution_count": null,
   "id": "3c24ac24",
   "metadata": {
    "scrolled": false
   },
   "outputs": [],
   "source": [
    "voice_hour_district_count = pd.read_table(\"../voice_hour_district_count.txt\", sep=\",\", header=None)\n",
    "\n",
    "col_voice_hour_district_count = {\n",
    "    0: \"heure\",\n",
    "    1: \"district_depart\",\n",
    "    2: \"district_destination\",\n",
    "    3 : \"nombre_voice_heure\"\n",
    "}\n",
    "voice_hour_district_count.rename(columns=col_voice_hour_district_count, inplace=True)\n",
    "\n",
    "# nouvelle base\n",
    "df_heure_voice = pd.DataFrame({\"id_district\":range(0,124)})\n",
    "\n",
    "for h in range(0,24):\n",
    "    # filtrer par heure\n",
    "    df = voice_hour_district_count[voice_hour_district_count[\"heure\"]==h]\n",
    "    # total de message que chaque district envoie aux autres chaque heure\n",
    "    df_heure_voice[\"nb_voice_{}h\".format(h)]= df[[\"district_depart\", \"nombre_voice_heure\"]].groupby(\"district_depart\").sum()\n",
    "    # nombre moyen de message qui sort de chaque district par heure\n",
    "    df_heure_voice[\"nb_moyen_voice_{}h\".format(h)]= df[[\"district_depart\", \"nombre_voice_heure\"]].groupby(\"district_depart\").mean()\n",
    "    # nombre minimum de message qui sort de chaque district par heure\n",
    "    df_heure_voice[\"nb_min_voice_{}h\".format(h)]= df[[\"district_depart\", \"nombre_voice_heure\"]].groupby(\"district_depart\").min()\n",
    "    # nombre maximum de message qui sort de chaque district par heure\n",
    "    df_heure_voice[\"nb_max_voice_{}h\".format(h)]= df[[\"district_depart\", \"nombre_voice_heure\"]].groupby(\"district_depart\").max()\n",
    "    # transformation logarithmique\n",
    "    df_heure_voice[\"log_nb_voice_{}h\".format(h)]= np.log(df[[\"district_depart\", \"nombre_voice_heure\"]].groupby(\"district_depart\").sum())\n",
    "    df_heure_voice[\"log_nb_moyen_voice_{}h\".format(h)]= np.log(df[[\"district_depart\", \"nombre_voice_heure\"]].groupby(\"district_depart\").mean())\n",
    "    # transformation racine carrée\n",
    "    df_heure_voice[\"sqrt_nb_voice_{}h\".format(h)]= np.sqrt(df[[\"district_depart\", \"nombre_voice_heure\"]].groupby(\"district_depart\").sum())\n",
    "    df_heure_voice[\"sqrt_nb_moyen_voice_{}h\".format(h)]= np.sqrt(df[[\"district_depart\", \"nombre_voice_heure\"]].groupby(\"district_depart\").mean())\n",
    "    \n",
    "df_heure_voice = df_heure_voice.iloc[1:,:]"
   ]
  },
  {
   "cell_type": "code",
   "execution_count": null,
   "id": "a67f4779",
   "metadata": {},
   "outputs": [],
   "source": [
    "df_heure_voice.head()"
   ]
  },
  {
   "cell_type": "code",
   "execution_count": null,
   "id": "d0c7d427",
   "metadata": {},
   "outputs": [],
   "source": [
    "df_heure_voice.shape"
   ]
  },
  {
   "cell_type": "code",
   "execution_count": null,
   "id": "e665d570",
   "metadata": {},
   "outputs": [],
   "source": [
    "voice_hour_district_duration = pd.read_table(\"../voice_hour_district_duration.txt\", sep=\",\", header=None)\n",
    "\n",
    "col_voice_hour_district_duration = {\n",
    "    0: \"heure\",\n",
    "    1: \"district_depart\",\n",
    "    2: \"district_destination\",\n",
    "    3: \"duree_voice_heure\"\n",
    "}\n",
    "voice_hour_district_duration.rename(columns=col_voice_hour_district_duration, inplace=True)\n",
    "\n",
    "# nouvelle base\n",
    "df_heure_voice_duree = pd.DataFrame({\"id_district\":range(0,124)})\n",
    "\n",
    "for h in range(0,24):\n",
    "    # filtrer par heure\n",
    "    df = voice_hour_district_duration[voice_hour_district_duration[\"heure\"]==h]\n",
    "    # total de message que chaque district envoie aux autres chaque heure\n",
    "    df_heure_voice_duree[\"duree_voice_{}h\".format(h)]= df[[\"district_depart\", \"duree_voice_heure\"]].groupby(\"district_depart\").sum()\n",
    "    # nombre moyen de message qui sort de chaque district par heure\n",
    "    df_heure_voice_duree[\"duree_moyen_voice_{}h\".format(h)]= df[[\"district_depart\", \"duree_voice_heure\"]].groupby(\"district_depart\").mean()\n",
    "    # nombre minimum de message qui sort de chaque district par heure\n",
    "    df_heure_voice_duree[\"duree_min_voice_{}h\".format(h)]= df[[\"district_depart\", \"duree_voice_heure\"]].groupby(\"district_depart\").min()\n",
    "    # nombre maximum de message qui sort de chaque district par heure\n",
    "    df_heure_voice_duree[\"duree_max_voice_{}h\".format(h)]= df[[\"district_depart\", \"duree_voice_heure\"]].groupby(\"district_depart\").max()\n",
    "    # transformation logarithmique\n",
    "    df_heure_voice_duree[\"log_duree_voice_{}h\".format(h)]= np.log(df[[\"district_depart\", \"duree_voice_heure\"]].groupby(\"district_depart\").sum())\n",
    "    df_heure_voice_duree[\"log_duree_moyen_voice_{}h\".format(h)]= np.log(df[[\"district_depart\", \"duree_voice_heure\"]].groupby(\"district_depart\").mean())\n",
    "    # transformation racine carrée\n",
    "    df_heure_voice_duree[\"sqrt_duree_voice_{}h\".format(h)]= np.sqrt(df[[\"district_depart\", \"duree_voice_heure\"]].groupby(\"district_depart\").sum())\n",
    "    df_heure_voice_duree[\"sqrt_duree_moyen_voice_{}h\".format(h)]= np.sqrt(df[[\"district_depart\", \"duree_voice_heure\"]].groupby(\"district_depart\").mean())\n",
    "    \n",
    "df_heure_voice_duree = df_heure_voice_duree.iloc[1:,:]"
   ]
  },
  {
   "cell_type": "code",
   "execution_count": null,
   "id": "9f894c21",
   "metadata": {},
   "outputs": [],
   "source": [
    "df_heure_voice_duree.head()"
   ]
  },
  {
   "cell_type": "code",
   "execution_count": null,
   "id": "634bec55",
   "metadata": {
    "scrolled": true
   },
   "outputs": [],
   "source": [
    "df_heure = pd.DataFrame({\"id_district\": range(1,124)})\n",
    "\n",
    "for my_df in [df_heure_text, df_heure_voice, df_heure_voice_duree]:\n",
    "    df_heure = pd.merge(df_heure, my_df, on=\"id_district\")\n",
    "\n",
    "df_heure.head()"
   ]
  },
  {
   "cell_type": "code",
   "execution_count": null,
   "id": "2cc760cb",
   "metadata": {
    "scrolled": true
   },
   "outputs": [],
   "source": [
    "df_heure.shape"
   ]
  },
  {
   "cell_type": "code",
   "execution_count": null,
   "id": "5bd11b95",
   "metadata": {},
   "outputs": [],
   "source": []
  }
 ],
 "metadata": {
  "kernelspec": {
   "display_name": "Python 3 (ipykernel)",
   "language": "python",
   "name": "python3"
  },
  "language_info": {
   "codemirror_mode": {
    "name": "ipython",
    "version": 3
   },
   "file_extension": ".py",
   "mimetype": "text/x-python",
   "name": "python",
   "nbconvert_exporter": "python",
   "pygments_lexer": "ipython3",
   "version": "3.9.13"
  }
 },
 "nbformat": 4,
 "nbformat_minor": 5
}
