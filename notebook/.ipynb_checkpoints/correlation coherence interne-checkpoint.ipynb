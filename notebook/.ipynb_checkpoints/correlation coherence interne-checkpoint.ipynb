{
 "cells": [
  {
   "cell_type": "code",
   "execution_count": null,
   "id": "b5dd0c64",
   "metadata": {},
   "outputs": [],
   "source": [
    "import pandas as pd\n",
    "import seaborn as sns\n",
    "import numpy as np\n",
    "import matplotlib.pyplot as plt\n",
    "\n",
    "import warnings\n",
    "warnings.filterwarnings(\"ignore\")"
   ]
  },
  {
   "cell_type": "code",
   "execution_count": null,
   "id": "0e0c4857",
   "metadata": {},
   "outputs": [],
   "source": [
    "dic_res = {\n",
    "    \"nb_var_modele\": [1763, 425, 22, 23, 52],\n",
    "    \"r2_train\": [93.62, 76.82, 41.31, 69.70, 79.01],\n",
    "    \"r2_test\": [81.84, 76.45, 17.64, 63.28, 62.53],\n",
    "    \"corr_pred_terr\": [95.70, 88.41, 63.91, 83.23, 86.81]\n",
    "}\n",
    "df_res = pd.DataFrame(dic_res)"
   ]
  },
  {
   "cell_type": "code",
   "execution_count": null,
   "id": "d5eaa0aa",
   "metadata": {},
   "outputs": [],
   "source": [
    "mask = np.triu(np.ones_like(df_res.corr(), dtype=np.bool))\n",
    "sns.heatmap(df_res.corr(), mask=mask, annot=True, cmap='BrBG');"
   ]
  },
  {
   "cell_type": "code",
   "execution_count": null,
   "id": "5cb8fbc6",
   "metadata": {},
   "outputs": [],
   "source": [
    "plt.figure(figsize=(2, 4))\n",
    "heatmap = sns.heatmap(df_res.corr()[['corr_pred_terr']].sort_values(by='corr_pred_terr', ascending=False), vmin=-1, vmax=1, annot=True, cmap='BrBG')\n",
    "heatmap.set_title('', fontdict={'fontsize':18}, pad=16);"
   ]
  }
 ],
 "metadata": {
  "kernelspec": {
   "display_name": "Python 3 (ipykernel)",
   "language": "python",
   "name": "python3"
  },
  "language_info": {
   "codemirror_mode": {
    "name": "ipython",
    "version": 3
   },
   "file_extension": ".py",
   "mimetype": "text/x-python",
   "name": "python",
   "nbconvert_exporter": "python",
   "pygments_lexer": "ipython3",
   "version": "3.9.13"
  }
 },
 "nbformat": 4,
 "nbformat_minor": 5
}
