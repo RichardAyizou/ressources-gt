{
 "cells": [
  {
   "cell_type": "code",
   "execution_count": null,
   "id": "4502289d",
   "metadata": {},
   "outputs": [],
   "source": [
    "import pandas as pd\n",
    "import numpy as np\n",
    "import matplotlib.pyplot as plt\n",
    "from sklearn.linear_model import LinearRegression, Lasso, Ridge, ElasticNet\n",
    "from sklearn.metrics import r2_score\n",
    "from sklearn.model_selection import train_test_split, cross_val_score, KFold, GridSearchCV\n",
    "from sklearn.feature_selection import SelectKBest, f_regression\n",
    "from sklearn.preprocessing import StandardScaler, PolynomialFeatures\n",
    "\n",
    "import warnings\n",
    "warnings.filterwarnings(\"ignore\")"
   ]
  },
  {
   "cell_type": "code",
   "execution_count": null,
   "id": "131b799b",
   "metadata": {},
   "outputs": [],
   "source": [
    "# Données\n",
    "%run base.ipynb\n",
    "df = donnees.iloc[:,1:2314]"
   ]
  },
  {
   "cell_type": "code",
   "execution_count": null,
   "id": "ffca0f88",
   "metadata": {},
   "outputs": [],
   "source": [
    "%%time\n",
    "\n",
    "y = donnees[\"Has electricity: Yes\"]\n",
    "X =np.array(df)\n",
    "sc = StandardScaler()\n",
    "sc.fit(X)\n",
    "X = sc.transform(X)\n",
    "x_train, x_test, y_train, y_test = train_test_split(X, y, test_size = 0.2, shuffle=True, random_state = 0)\n",
    "param_grid = [\n",
    "        {'alpha': np.linspace(0,1,26), 'l1_ratio': [.1, .2, .3, .4, .5, .6, .7, .8, .9, 1]},\n",
    "]\n",
    "\n",
    "\n",
    "grid_search = GridSearchCV(ElasticNet(), param_grid, cv=3,\n",
    "                               scoring='r2',\n",
    "                               return_train_score=True)\n",
    "grid_search.fit(x_train, y_train)\n",
    "\n",
    "print(grid_search.best_estimator_)\n",
    "print(grid_search.best_score_)\n",
    "print(grid_search.score(x_test, y_test))"
   ]
  },
  {
   "cell_type": "code",
   "execution_count": null,
   "id": "990b4067",
   "metadata": {},
   "outputs": [],
   "source": [
    "%%time\n",
    "\n",
    "alpha = grid_search.best_estimator_.alpha\n",
    "l1_ratio = grid_search.best_estimator_.l1_ratio\n",
    "\n",
    "regr = ElasticNet(random_state=0,alpha=alpha, l1_ratio=l1_ratio)\n",
    "regr.fit(x_train, y_train)\n",
    "\n",
    "print(\"r2_train : \")\n",
    "print(100*regr.score(x_train, y_train))\n",
    "\n",
    "y_pred = regr.predict(x_test)\n",
    "y_true = y_test\n",
    "print(\"\\n r2_test : \")\n",
    "print(100*r2_score(y_true, y_pred))\n",
    "\n",
    "coef = pd.Series(regr.coef_, index = df.columns)\n",
    "serie = pd.Series(coef[coef!=0])\n",
    "print(\"Nombre de variables sélectionnées :\")\n",
    "print(len(serie))\n",
    "\n",
    "# print(\"Liste des variables sélectionnées :\")\n",
    "# print(list(serie.index))"
   ]
  },
  {
   "cell_type": "code",
   "execution_count": null,
   "id": "395ff5d5",
   "metadata": {
    "scrolled": true
   },
   "outputs": [],
   "source": [
    "my_df = donnees[[\"id_district\", \"Has electricity: Yes\"]]\n",
    "my_df[\"Has electricity: Yes predicted\"] = regr.predict(X)\n",
    "my_df[[\"Has electricity: Yes\", \"Has electricity: Yes predicted\"]].corr()"
   ]
  },
  {
   "cell_type": "code",
   "execution_count": null,
   "id": "e1ce67f1",
   "metadata": {},
   "outputs": [],
   "source": [
    "cdr_electricite = list(serie.index)\n",
    "cdr_electricite = pd.DataFrame({\"cdr_electricite\":cdr_electricite})\n",
    "cdr_electricite.to_csv(\"../resultats_tableaux/cdr_electricite.csv\",index=False)"
   ]
  },
  {
   "cell_type": "code",
   "execution_count": null,
   "id": "cb27917b",
   "metadata": {},
   "outputs": [],
   "source": [
    "%%time\n",
    "r2_train = []\n",
    "r2_test = []\n",
    "l_alpha = []\n",
    "l_serie = []\n",
    "l_taille = []\n",
    "l_var = []\n",
    "\n",
    "for alpha in np.linspace(0,1,26):\n",
    "    regr = ElasticNet(random_state=0,alpha=alpha, l1_ratio=l1_ratio)\n",
    "    regr.fit(x_train, y_train)\n",
    "    coef = pd.Series(regr.coef_, index = donnees.columns[1:2314])\n",
    "    serie = pd.Series(coef[coef!=0])\n",
    "    r2_train.append(100*regr.score(x_train, y_train))\n",
    "    y_pred = regr.predict(x_test)\n",
    "    y_true = y_test\n",
    "    r2_test.append(100*r2_score(y_true, y_pred))\n",
    "    l_alpha.append(alpha)\n",
    "    l_serie.append(serie)\n",
    "    l_taille.append(len(serie))\n",
    "     #l_var.append(v_y)\n",
    "        \n",
    "df_rsquare = pd.DataFrame({\n",
    "        #'VariableDemographique':l_var, \n",
    "        'r2_train':r2_train, \n",
    "        'r2_test':r2_test, \n",
    "        'alpha':l_alpha,\n",
    "        'nb_variables': l_taille})\n",
    "\n",
    "df_rsquare.sort_values(by=\"r2_test\", ascending=False).head()"
   ]
  },
  {
   "cell_type": "code",
   "execution_count": null,
   "id": "412a2541",
   "metadata": {},
   "outputs": [],
   "source": [
    "electricity = df_rsquare\n",
    "electricity = electricity[electricity[\"r2_test\"]>=0]\n",
    "electricity = electricity.sort_values(by=\"nb_variables\")\n",
    "fig, ax = plt.subplots()\n",
    "electricity.plot(x = 'nb_variables', y = 'r2_train', ax = ax, color=\"red\",ylabel=\"R2 score\", xlim=(0,160), ylim=(0,100))\n",
    "electricity.plot(x = 'nb_variables', y = 'r2_test', ax = ax, color=\"blue\")\n",
    "plt.axvline(x=23, ymax=0.6970, ls='--', lw=0.75, c=\"gray\")\n",
    "plt.axhline(y=69.70, xmax=23/160, ls='--', lw=0.75, c=\"gray\")\n",
    "plt.axhline(y=63.27, xmax=23/160, ls='--', lw=0.75, c=\"green\")\n",
    "plt.axvline(x=74, ls='--', lw=0.75, c=\"y\")"
   ]
  },
  {
   "cell_type": "code",
   "execution_count": null,
   "id": "cdaa82b0",
   "metadata": {},
   "outputs": [],
   "source": [
    "fig.savefig(\"../resultats_graphiques/electricite.png\")"
   ]
  }
 ],
 "metadata": {
  "kernelspec": {
   "display_name": "Python 3 (ipykernel)",
   "language": "python",
   "name": "python3"
  },
  "language_info": {
   "codemirror_mode": {
    "name": "ipython",
    "version": 3
   },
   "file_extension": ".py",
   "mimetype": "text/x-python",
   "name": "python",
   "nbconvert_exporter": "python",
   "pygments_lexer": "ipython3",
   "version": "3.9.13"
  }
 },
 "nbformat": 4,
 "nbformat_minor": 5
}
