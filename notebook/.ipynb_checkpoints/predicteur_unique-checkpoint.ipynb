{
 "cells": [
  {
   "cell_type": "code",
   "execution_count": null,
   "id": "3f88e347",
   "metadata": {},
   "outputs": [],
   "source": [
    "import pandas as pd\n",
    "import numpy as np\n",
    "from sklearn.model_selection import train_test_split\n",
    "from sklearn.preprocessing import StandardScaler\n",
    "from sklearn.linear_model import LinearRegression\n",
    "from sklearn.metrics import r2_score\n",
    "from sklearn.model_selection import cross_val_score\n",
    "from sklearn.model_selection import KFold\n",
    "\n",
    "\n",
    "import warnings\n",
    "warnings.filterwarnings(\"ignore\")"
   ]
  },
  {
   "cell_type": "code",
   "execution_count": null,
   "id": "6bb8b872",
   "metadata": {},
   "outputs": [],
   "source": [
    "%run base.ipynb"
   ]
  },
  {
   "cell_type": "code",
   "execution_count": null,
   "id": "0f40c2c5",
   "metadata": {},
   "outputs": [],
   "source": [
    "%%time\n",
    "\n",
    "cv = KFold(3, random_state=0, shuffle=True)\n",
    "list_var_demo = []\n",
    "list_var_cdr = []\n",
    "list_rsquare = []\n",
    "sc = StandardScaler()\n",
    "\n",
    "for v_demo in demographic.columns:\n",
    "    y = donnees[v_demo]\n",
    "    for v_cdr in list(donnees.columns[1:2314]):\n",
    "        X = np.array(donnees[v_cdr])\n",
    "        X = X.reshape((-1, 1))\n",
    "        sc.fit(X)\n",
    "        X = sc.transform(X)\n",
    "        list_var_cdr.append(v_cdr)\n",
    "        list_rsquare.append(cross_val_score(LinearRegression(), X, y, cv=cv).mean())\n",
    "        list_var_demo.append(v_demo)\n",
    "\n",
    "\n",
    "df_rsquare = pd.DataFrame({\n",
    "    'variable_demographique':list_var_demo, \n",
    "    'variable_cdr':list_var_cdr, \n",
    "    'r2_score':list_rsquare})"
   ]
  },
  {
   "cell_type": "code",
   "execution_count": null,
   "id": "f77a0ed0",
   "metadata": {},
   "outputs": [],
   "source": [
    "df_rsquare.shape"
   ]
  },
  {
   "cell_type": "code",
   "execution_count": null,
   "id": "f46b5cb2",
   "metadata": {},
   "outputs": [],
   "source": [
    "df_rsquare.sort_values(by=\"r2_score\", ascending=False).head(50)"
   ]
  },
  {
   "cell_type": "code",
   "execution_count": null,
   "id": "8c09b14a",
   "metadata": {},
   "outputs": [],
   "source": [
    "#score_prediction_simple_reg = df_rsquare.sort_values(by=\"r2_score\", ascending=False).iloc[0:150,:]\n",
    "score_prediction_simple_reg = df_rsquare.sort_values(by=\"r2_score\", ascending=False)\n",
    "score_prediction_simple_reg.to_csv(\"../resultats_tableaux/score_prediction_simple_reg.csv\",index=False)"
   ]
  },
  {
   "cell_type": "code",
   "execution_count": null,
   "id": "58459bbb",
   "metadata": {},
   "outputs": [],
   "source": [
    "df = df_rsquare.sort_values(by=\"r2_score\", ascending=False)\n",
    "df = df.drop_duplicates(subset=['variable_demographique'])"
   ]
  },
  {
   "cell_type": "code",
   "execution_count": null,
   "id": "c81506f4",
   "metadata": {},
   "outputs": [],
   "source": [
    "df[\"variable_cdr\"].value_counts().sort_values(ascending=False)"
   ]
  },
  {
   "cell_type": "code",
   "execution_count": null,
   "id": "ef51f2fc",
   "metadata": {},
   "outputs": [],
   "source": []
  }
 ],
 "metadata": {
  "kernelspec": {
   "display_name": "Python 3 (ipykernel)",
   "language": "python",
   "name": "python3"
  },
  "language_info": {
   "codemirror_mode": {
    "name": "ipython",
    "version": 3
   },
   "file_extension": ".py",
   "mimetype": "text/x-python",
   "name": "python",
   "nbconvert_exporter": "python",
   "pygments_lexer": "ipython3",
   "version": "3.9.13"
  }
 },
 "nbformat": 4,
 "nbformat_minor": 5
}
