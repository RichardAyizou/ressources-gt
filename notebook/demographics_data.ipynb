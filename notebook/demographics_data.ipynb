{
 "cells": [
  {
   "cell_type": "code",
   "execution_count": null,
   "id": "22fb5e0e",
   "metadata": {},
   "outputs": [],
   "source": [
    "import pandas as pd\n",
    "import numpy as np"
   ]
  },
  {
   "cell_type": "code",
   "execution_count": null,
   "id": "8e08d5bc",
   "metadata": {},
   "outputs": [],
   "source": [
    "age_plus = pd.read_excel(\"../age_plus.xlsx\")\n",
    "cooking_plus = pd.read_excel(\"../cooking_plus.xlsx\")\n",
    "education_female_plus = pd.read_excel(\"../education_female_plus.xlsx\")\n",
    "education_male_plus = pd.read_excel(\"../education_male_plus.xlsx\")\n",
    "employment_plus = pd.read_excel(\"../employment_plus.xlsx\")\n",
    "household_plus = pd.read_excel(\"../household_plus.xlsx\")\n",
    "literacy_plus = pd.read_excel(\"../literacy_plus.xlsx\")\n",
    "malaria_plus = pd.read_excel(\"../malaria_plus.xlsx\")\n",
    "massmedia_plus = pd.read_excel(\"../massmedia_plus.xlsx\")\n",
    "occupation_plus = pd.read_excel(\"../occupation_plus.xlsx\")\n",
    "orphan_plus = pd.read_excel(\"../orphan_plus.xlsx\")\n",
    "possessions_plus = pd.read_excel(\"../possessions_plus.xlsx\")\n",
    "school_female_plus = pd.read_excel(\"../school_female_plus.xlsx\")\n",
    "school_male_plus = pd.read_excel(\"../school_male_plus.xlsx\")\n",
    "water_electricity_plus = pd.read_excel(\"../water_electricity_plus.xlsx\")\n",
    "\n",
    "\n",
    "\n",
    "demographic = pd.DataFrame({\"arr\": range(0,123)})\n",
    "\n",
    "for my_df in [age_plus, cooking_plus, education_female_plus, education_male_plus, \n",
    "              employment_plus, household_plus, literacy_plus, malaria_plus, \n",
    "              massmedia_plus, occupation_plus, orphan_plus, possessions_plus, \n",
    "              school_female_plus, school_male_plus, water_electricity_plus]:\n",
    "    demographic = pd.merge(demographic, my_df, on=\"arr\")\n",
    "\n",
    "demographic[\"id_district\"] = demographic[\"arr\"]+1\n",
    "demographic = demographic.iloc[:,1:]\n",
    "demographic.head()"
   ]
  },
  {
   "cell_type": "code",
   "execution_count": null,
   "id": "f4d0e8e7",
   "metadata": {},
   "outputs": [],
   "source": [
    "list(demographic.columns)"
   ]
  },
  {
   "cell_type": "code",
   "execution_count": null,
   "id": "1b003f03",
   "metadata": {},
   "outputs": [],
   "source": [
    "household_plus"
   ]
  },
  {
   "cell_type": "code",
   "execution_count": null,
   "id": "4251ff13",
   "metadata": {},
   "outputs": [],
   "source": [
    "household_plus.columns"
   ]
  },
  {
   "cell_type": "code",
   "execution_count": null,
   "id": "38a24a7a",
   "metadata": {},
   "outputs": [],
   "source": [
    "employment_plus.columns"
   ]
  },
  {
   "cell_type": "code",
   "execution_count": null,
   "id": "f6507adb",
   "metadata": {},
   "outputs": [],
   "source": [
    "41.5+45.4+5.9+7.2"
   ]
  },
  {
   "cell_type": "code",
   "execution_count": null,
   "id": "9fec5b35",
   "metadata": {
    "scrolled": true
   },
   "outputs": [],
   "source": [
    "employment_plus"
   ]
  },
  {
   "cell_type": "code",
   "execution_count": null,
   "id": "e842dbaa",
   "metadata": {},
   "outputs": [],
   "source": [
    "possessions_plus.describe()"
   ]
  },
  {
   "cell_type": "code",
   "execution_count": null,
   "id": "feb60302",
   "metadata": {},
   "outputs": [],
   "source": [
    "water_electricity_plus.describe()"
   ]
  }
 ],
 "metadata": {
  "kernelspec": {
   "display_name": "Python 3 (ipykernel)",
   "language": "python",
   "name": "python3"
  },
  "language_info": {
   "codemirror_mode": {
    "name": "ipython",
    "version": 3
   },
   "file_extension": ".py",
   "mimetype": "text/x-python",
   "name": "python",
   "nbconvert_exporter": "python",
   "pygments_lexer": "ipython3",
   "version": "3.9.13"
  }
 },
 "nbformat": 4,
 "nbformat_minor": 5
}
