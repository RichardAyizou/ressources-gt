{
 "cells": [
  {
   "cell_type": "code",
   "execution_count": null,
   "id": "319e97d4",
   "metadata": {},
   "outputs": [],
   "source": [
    "import pandas as pd\n",
    "import numpy as np\n",
    "import matplotlib.pyplot as plt\n",
    "from sklearn.linear_model import LinearRegression, Lasso, Ridge, ElasticNet\n",
    "from sklearn.metrics import r2_score\n",
    "from sklearn.model_selection import train_test_split, cross_val_score, KFold, GridSearchCV\n",
    "from sklearn.feature_selection import SelectKBest, f_regression\n",
    "from sklearn.preprocessing import StandardScaler, PolynomialFeatures\n",
    "\n",
    "import warnings\n",
    "warnings.filterwarnings(\"ignore\")"
   ]
  },
  {
   "cell_type": "code",
   "execution_count": null,
   "id": "143791be",
   "metadata": {},
   "outputs": [],
   "source": [
    "# Données\n",
    "%run base.ipynb\n",
    "df = donnees.iloc[:,1:2314]"
   ]
  },
  {
   "cell_type": "code",
   "execution_count": null,
   "id": "9e5aa38c",
   "metadata": {},
   "outputs": [],
   "source": [
    "%%time\n",
    "\n",
    "# Paramètres optimaux pour 100 valeurs de alpha\n",
    "\n",
    "y = donnees[\"Household possessions: Bicycle\"]\n",
    "X =np.array(df)\n",
    "sc = StandardScaler()\n",
    "sc.fit(X)\n",
    "X = sc.transform(X)\n",
    "x_train, x_test, y_train, y_test = train_test_split(X, y, test_size = 0.2, shuffle=True, random_state = 0)\n",
    "param_grid = [\n",
    "        {'alpha': np.linspace(0,1,100), 'l1_ratio': [.1, .2, .3, .4, .5, .6, .7, .8, .9, 1]},\n",
    "]\n",
    "\n",
    "\n",
    "grid_search = GridSearchCV(ElasticNet(), param_grid, cv=3,\n",
    "                               scoring='r2',\n",
    "                               return_train_score=True)\n",
    "grid_search.fit(x_train, y_train)\n",
    "\n",
    "print(grid_search.best_estimator_)\n",
    "print(grid_search.best_score_)\n",
    "print(grid_search.score(x_test, y_test))\n",
    "\n",
    "\n",
    "#------------------------------------------------------\n",
    "alpha = grid_search.best_estimator_.alpha\n",
    "l1_ratio = grid_search.best_estimator_.l1_ratio\n",
    "\n",
    "regr = ElasticNet(random_state=0,alpha=alpha, l1_ratio=l1_ratio)\n",
    "regr.fit(x_train, y_train)\n",
    "\n",
    "print(\"r2_train : \")\n",
    "print(100*regr.score(x_train, y_train))\n",
    "\n",
    "y_pred = regr.predict(x_test)\n",
    "y_true = y_test\n",
    "print(\"\\n r2_test : \")\n",
    "print(100*r2_score(y_true, y_pred))\n",
    "\n",
    "coef = pd.Series(regr.coef_, index = df.columns)\n",
    "serie = pd.Series(coef[coef!=0])\n",
    "print(\"Nombre de variables sélectionnées :\")\n",
    "print(len(serie))"
   ]
  },
  {
   "cell_type": "code",
   "execution_count": null,
   "id": "75e742e6",
   "metadata": {},
   "outputs": [],
   "source": [
    "my_df100 = donnees[[\"id_district\", \"Household possessions: Bicycle\"]]\n",
    "my_df100[\"Household possessions: Bicycle predicted\"] = regr.predict(X)\n",
    "my_df100[[\"Household possessions: Bicycle\", \"Household possessions: Bicycle predicted\"]].corr()"
   ]
  },
  {
   "cell_type": "code",
   "execution_count": null,
   "id": "ff552f24",
   "metadata": {},
   "outputs": [],
   "source": [
    "cdr_velo = list(serie.index)\n",
    "cdr_velo = pd.DataFrame({\"cdr_velo\":cdr_velo})\n",
    "cdr_velo.to_csv(\"../resultats_tableaux/cdr_velo.csv\",index=False)"
   ]
  },
  {
   "cell_type": "code",
   "execution_count": null,
   "id": "1e8d70a6",
   "metadata": {},
   "outputs": [],
   "source": [
    "%%time\n",
    "r2_train = []\n",
    "r2_test = []\n",
    "l_alpha = []\n",
    "l_serie = []\n",
    "l_taille = []\n",
    "l_var = []\n",
    "cv = KFold(3, random_state=0, shuffle=True)\n",
    "df = base_cdr.drop(columns=\"id_district\")\n",
    "\n",
    "v_y = \"Household possessions: Bicycle\"\n",
    "y = donnees[v_y]\n",
    "sc = StandardScaler()\n",
    "X =np.array(df)\n",
    "sc.fit(X)\n",
    "X = sc.transform(X)\n",
    "x_train, x_test, y_train, y_test = train_test_split(X, y, test_size = 0.2, shuffle=True, random_state = 0)\n",
    "for alpha in np.linspace(0,1,100):\n",
    "    regr = ElasticNet(random_state=0,alpha=alpha, l1_ratio=0.1)\n",
    "    regr.fit(x_train, y_train)\n",
    "    coef = pd.Series(regr.coef_, index = donnees.columns[1:2314])\n",
    "    serie = pd.Series(coef[coef!=0])\n",
    "    r2_train.append(100*regr.score(x_train, y_train))\n",
    "    y_pred = regr.predict(x_test)\n",
    "    y_true = y_test\n",
    "    r2_test.append(100*r2_score(y_true, y_pred))\n",
    "    l_alpha.append(alpha)\n",
    "    l_serie.append(serie)\n",
    "    l_taille.append(len(serie))\n",
    "    l_var.append(v_y)\n",
    "        \n",
    "df_rsquare100 = pd.DataFrame({\n",
    "        'VariableDemographique':l_var, \n",
    "        'r2_train':r2_train, \n",
    "        'r2_test':r2_test, \n",
    "        'alpha':l_alpha,\n",
    "        'nb_variables': l_taille})"
   ]
  },
  {
   "cell_type": "code",
   "execution_count": null,
   "id": "21e6dab0",
   "metadata": {},
   "outputs": [],
   "source": [
    "Bicycle100 = df_rsquare100[df_rsquare100[\"VariableDemographique\"]==\"Household possessions: Bicycle\"]\n",
    "Bicycle100 = Bicycle100[Bicycle100[\"r2_test\"]>=0]\n",
    "Bicycle100.sort_values(by=\"r2_test\", ascending=False).head()"
   ]
  },
  {
   "cell_type": "code",
   "execution_count": null,
   "id": "62833c7c",
   "metadata": {},
   "outputs": [],
   "source": [
    "Bicycle100 = Bicycle100.sort_values(by=\"nb_variables\")\n",
    "fig, ax = plt.subplots()\n",
    "Bicycle100.plot(x = 'nb_variables', y = 'r2_train', ax = ax, color=\"red\",ylabel=\"R2 score\", ylim=(0,100), xlim=(0,2500))\n",
    "Bicycle100.plot(x = 'nb_variables', y = 'r2_test', ax = ax, color=\"blue\")\n",
    "plt.axvline(x=1763, ymax=0.9362, ls='--', lw=0.75, c=\"gray\")\n",
    "plt.axhline(y=93.62, xmax=1763/2500, ls='--', lw=0.75, c=\"gray\")\n",
    "plt.axhline(y=81.84, xmax=1763/2500, ls='--', lw=0.75, c=\"green\")\n",
    "plt.axvline(x=1544, ls='--', lw=0.75, c=\"y\")"
   ]
  },
  {
   "cell_type": "code",
   "execution_count": null,
   "id": "3a1a77c2",
   "metadata": {},
   "outputs": [],
   "source": [
    "fig.savefig(\"../resultats_graphiques/velo3.png\")"
   ]
  },
  {
   "cell_type": "code",
   "execution_count": null,
   "id": "655654b9",
   "metadata": {},
   "outputs": [],
   "source": [
    "r2_test_max=Bicycle100[\"r2_test\"].max()\n",
    "\n",
    "alpha = Bicycle100[Bicycle100[\"r2_test\"]==r2_test_max][\"alpha\"].values[0]\n",
    "l1_ratio = grid_search.best_estimator_.l1_ratio\n",
    "\n",
    "regr = ElasticNet(random_state=0,alpha=alpha, l1_ratio=l1_ratio)\n",
    "regr.fit(x_train, y_train)\n",
    "\n",
    "print(\"r2_train : \")\n",
    "print(100*regr.score(x_train, y_train))\n",
    "\n",
    "y_pred = regr.predict(x_test)\n",
    "y_true = y_test\n",
    "print(\"\\n r2_test : \")\n",
    "print(100*r2_score(y_true, y_pred))\n",
    "\n",
    "coef = pd.Series(regr.coef_, index = df.columns)\n",
    "serie = pd.Series(coef[coef!=0])\n",
    "print(\"Nombre de variables sélectionnées :\")\n",
    "print(len(serie))"
   ]
  },
  {
   "cell_type": "code",
   "execution_count": null,
   "id": "8faf150a",
   "metadata": {},
   "outputs": [],
   "source": [
    "my_df100b = donnees[[\"id_district\", \"Household possessions: Bicycle\"]]\n",
    "my_df100b[\"Household possessions: Bicycle predicted\"] = regr.predict(X)\n",
    "my_df100b[[\"Household possessions: Bicycle\", \"Household possessions: Bicycle predicted\"]].corr()"
   ]
  },
  {
   "cell_type": "code",
   "execution_count": null,
   "id": "fb8099d8",
   "metadata": {},
   "outputs": [],
   "source": [
    "%%time\n",
    "\n",
    "# Paramètres optimaux pour 20 valeurs de alpha\n",
    "\n",
    "y = donnees[\"Household possessions: Bicycle\"]\n",
    "X =np.array(df)\n",
    "sc = StandardScaler()\n",
    "sc.fit(X)\n",
    "X = sc.transform(X)\n",
    "x_train, x_test, y_train, y_test = train_test_split(X, y, test_size = 0.2, shuffle=True, random_state = 0)\n",
    "param_grid = [\n",
    "        {'alpha': np.linspace(0,1,20), 'l1_ratio': [.1, .2, .3, .4, .5, .6, .7, .8, .9, 1]},\n",
    "]\n",
    "\n",
    "\n",
    "grid_search = GridSearchCV(ElasticNet(), param_grid, cv=3,\n",
    "                               scoring='r2',\n",
    "                               return_train_score=True)\n",
    "grid_search.fit(x_train, y_train)\n",
    "\n",
    "print(grid_search.best_estimator_)\n",
    "print(grid_search.best_score_)\n",
    "print(grid_search.score(x_test, y_test))\n",
    "\n",
    "\n",
    "\n",
    "#------------------------------------------------------------\n",
    "cv = KFold(3, random_state=0, shuffle=True)\n",
    "alpha = grid_search.best_estimator_.alpha\n",
    "l1_ratio = grid_search.best_estimator_.l1_ratio\n",
    "\n",
    "regr = ElasticNet(random_state=0,alpha=alpha, l1_ratio=l1_ratio)\n",
    "regr.fit(x_train, y_train)\n",
    "\n",
    "print(\"r2_train : \")\n",
    "print(100*regr.score(x_train, y_train))\n",
    "\n",
    "y_pred = regr.predict(x_test)\n",
    "y_true = y_test\n",
    "print(\"\\n r2_test : \")\n",
    "print(100*r2_score(y_true, y_pred))\n",
    "\n",
    "coef = pd.Series(regr.coef_, index = df.columns)\n",
    "serie = pd.Series(coef[coef!=0])\n",
    "print(\"Nombre de variables sélectionnées :\")\n",
    "print(len(serie))\n",
    "\n",
    "# print(\"Liste des variables sélectionnées :\")\n",
    "# print(list(serie.index))"
   ]
  },
  {
   "cell_type": "code",
   "execution_count": null,
   "id": "e6cfe34b",
   "metadata": {},
   "outputs": [],
   "source": [
    "my_df20 = donnees[[\"id_district\", \"Household possessions: Bicycle\"]]\n",
    "my_df20[\"Household possessions: Bicycle predicted\"] = regr.predict(X)\n",
    "my_df20[[\"Household possessions: Bicycle\", \"Household possessions: Bicycle predicted\"]].corr()\n",
    "my_df20[[\"Household possessions: Bicycle\", \"Household possessions: Bicycle predicted\"]].corr()"
   ]
  },
  {
   "cell_type": "code",
   "execution_count": null,
   "id": "f4c85cae",
   "metadata": {},
   "outputs": [],
   "source": [
    "%%time\n",
    "r2_train = []\n",
    "r2_test = []\n",
    "l_alpha = []\n",
    "l_serie = []\n",
    "l_taille = []\n",
    "l_var = []\n",
    "cv = KFold(3, random_state=0, shuffle=True)\n",
    "df = base_cdr.drop(columns=\"id_district\")\n",
    "\n",
    "v_y = \"Household possessions: Bicycle\"\n",
    "y = donnees[v_y]\n",
    "sc = StandardScaler()\n",
    "X =np.array(df)\n",
    "sc.fit(X)\n",
    "X = sc.transform(X)\n",
    "x_train, x_test, y_train, y_test = train_test_split(X, y, test_size = 0.2, shuffle=True, random_state = 0)\n",
    "for alpha in np.linspace(0,1,20):\n",
    "    regr = ElasticNet(random_state=0,alpha=alpha, l1_ratio=l1_ratio)\n",
    "    regr.fit(x_train, y_train)\n",
    "    coef = pd.Series(regr.coef_, index = donnees.columns[1:2314])\n",
    "    serie = pd.Series(coef[coef!=0])\n",
    "    #r2_train.append(100*cross_val_score(regr, x_train, y_train, cv=cv).mean())\n",
    "    r2_train.append(100*regr.score(x_train, y_train))\n",
    "    y_pred = regr.predict(x_test)\n",
    "    y_true = y_test\n",
    "    r2_test.append(100*r2_score(y_true, y_pred))\n",
    "    l_alpha.append(alpha)\n",
    "    l_serie.append(serie)\n",
    "    l_taille.append(len(serie))\n",
    "    l_var.append(v_y)\n",
    "        \n",
    "df_rsquare = pd.DataFrame({\n",
    "        'VariableDemographique':l_var, \n",
    "        'r2_train':r2_train, \n",
    "        'r2_test':r2_test, \n",
    "        'alpha':l_alpha,\n",
    "        'nb_variables': l_taille})"
   ]
  },
  {
   "cell_type": "code",
   "execution_count": null,
   "id": "d007f1b3",
   "metadata": {},
   "outputs": [],
   "source": [
    "Bicycle = df_rsquare[df_rsquare[\"VariableDemographique\"]==\"Household possessions: Bicycle\"]\n",
    "Bicycle = Bicycle[Bicycle[\"r2_test\"]>=0]\n",
    "Bicycle = Bicycle.sort_values(by=\"nb_variables\")\n",
    "fig, ax = plt.subplots()\n",
    "Bicycle.plot(x = 'nb_variables', y = 'r2_train', ax = ax, color=\"red\",ylabel=\"R2 score\")\n",
    "Bicycle.plot(x = 'nb_variables', y = 'r2_test', ax = ax, color=\"blue\")"
   ]
  },
  {
   "cell_type": "code",
   "execution_count": null,
   "id": "4bbba4eb",
   "metadata": {},
   "outputs": [],
   "source": [
    "fig.savefig(\"../resultats_graphiques/velo.png\")"
   ]
  },
  {
   "cell_type": "code",
   "execution_count": null,
   "id": "a621e5ce",
   "metadata": {},
   "outputs": [],
   "source": [
    "Bicycle"
   ]
  },
  {
   "cell_type": "code",
   "execution_count": null,
   "id": "0cbedc8a",
   "metadata": {},
   "outputs": [],
   "source": [
    "Bicycle = df_rsquare[df_rsquare[\"VariableDemographique\"]==\"Household possessions: Bicycle\"]\n",
    "Bicycle = Bicycle[Bicycle[\"r2_test\"]>=0]\n",
    "Bicycle = Bicycle.sort_values(by=\"nb_variables\")\n",
    "fig, ax = plt.subplots()\n",
    "Bicycle.plot(x = 'nb_variables', y = 'r2_train', ax = ax, color=\"red\",ylabel=\"R2 score\", ylim=(0,100), xlim=(0,2500))\n",
    "Bicycle.plot(x = 'nb_variables', y = 'r2_test', ax = ax, color=\"blue\")\n",
    "plt.axvline(x=1165, ymax=0.8134, ls='--', lw=0.75, c=\"gray\")\n",
    "plt.axhline(y=81.34, xmax=1165/2500, ls='--', lw=0.75, c=\"gray\")\n",
    "plt.axhline(y=79.25, xmax=1165/2500, ls='--', lw=0.75, c=\"green\")\n",
    "plt.axvline(x=1548, ls='--', lw=0.75, c=\"y\")"
   ]
  },
  {
   "cell_type": "code",
   "execution_count": null,
   "id": "0ae34987",
   "metadata": {},
   "outputs": [],
   "source": [
    "fig.savefig(\"../resultats_graphiques/velo2.png\")"
   ]
  },
  {
   "cell_type": "code",
   "execution_count": null,
   "id": "44eb5848",
   "metadata": {},
   "outputs": [],
   "source": [
    "alpha1 = Bicycle[Bicycle[\"nb_variables\"]==1165][\"alpha\"].values[0]\n",
    "alpha1"
   ]
  },
  {
   "cell_type": "code",
   "execution_count": null,
   "id": "8dd25dfc",
   "metadata": {},
   "outputs": [],
   "source": [
    "%%time\n",
    "\n",
    "df = donnees.iloc[:,1:2314]\n",
    "\n",
    "y = donnees[\"Household possessions: Bicycle\"]\n",
    "sc = StandardScaler()\n",
    "X =np.array(df)\n",
    "sc.fit(X)\n",
    "X = sc.transform(X)\n",
    "x_train, x_test, y_train, y_test = train_test_split(X, y, test_size = 0.2, shuffle=True, random_state = 0)\n",
    "l1_ratio = grid_search.best_estimator_.l1_ratio\n",
    "\n",
    "\n",
    "regr = ElasticNet(random_state=0,alpha=alpha1, l1_ratio=l1_ratio)\n",
    "regr.fit(x_train, y_train)\n",
    "\n",
    "print(\"r2_train : \")\n",
    "print(100*regr.score(x_train, y_train))\n",
    "\n",
    "y_pred = regr.predict(x_test)\n",
    "y_true = y_test\n",
    "print(\"\\n r2_test : \")\n",
    "print(100*r2_score(y_true, y_pred))\n",
    "\n",
    "coef = pd.Series(regr.coef_, index = df.columns)\n",
    "serie = pd.Series(coef[coef!=0])\n",
    "print(\"Nombre de variables sélectionnées :\")\n",
    "print(len(serie))\n",
    "\n",
    "# print(\"Liste des variables sélectionnées :\")\n",
    "# print(list(serie.index))"
   ]
  },
  {
   "cell_type": "code",
   "execution_count": null,
   "id": "72cc7fbc",
   "metadata": {},
   "outputs": [],
   "source": [
    "my_df = donnees[[\"id_district\", \"Household possessions: Bicycle\"]]\n",
    "my_df[\"Household possessions: Bicycle predicted\"] = regr.predict(X)\n",
    "my_df[[\"Household possessions: Bicycle\", \"Household possessions: Bicycle predicted\"]].corr()\n",
    "#my_df"
   ]
  },
  {
   "cell_type": "code",
   "execution_count": null,
   "id": "8640b4fa",
   "metadata": {},
   "outputs": [],
   "source": []
  }
 ],
 "metadata": {
  "kernelspec": {
   "display_name": "Python 3 (ipykernel)",
   "language": "python",
   "name": "python3"
  },
  "language_info": {
   "codemirror_mode": {
    "name": "ipython",
    "version": 3
   },
   "file_extension": ".py",
   "mimetype": "text/x-python",
   "name": "python",
   "nbconvert_exporter": "python",
   "pygments_lexer": "ipython3",
   "version": "3.9.13"
  }
 },
 "nbformat": 4,
 "nbformat_minor": 5
}
