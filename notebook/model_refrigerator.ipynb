{
 "cells": [
  {
   "cell_type": "code",
   "execution_count": null,
   "id": "4502289d",
   "metadata": {},
   "outputs": [],
   "source": [
    "import pandas as pd\n",
    "import numpy as np\n",
    "import matplotlib.pyplot as plt\n",
    "from sklearn.linear_model import LinearRegression, Lasso, Ridge, ElasticNet\n",
    "from sklearn.metrics import r2_score\n",
    "from sklearn.model_selection import train_test_split, cross_val_score, KFold, GridSearchCV\n",
    "from sklearn.feature_selection import SelectKBest, f_regression\n",
    "from sklearn.preprocessing import StandardScaler, PolynomialFeatures\n",
    "\n",
    "import warnings\n",
    "warnings.filterwarnings(\"ignore\")"
   ]
  },
  {
   "cell_type": "code",
   "execution_count": null,
   "id": "131b799b",
   "metadata": {},
   "outputs": [],
   "source": [
    "# Données\n",
    "%run base.ipynb\n",
    "df = donnees.iloc[:,1:2314]"
   ]
  },
  {
   "cell_type": "code",
   "execution_count": null,
   "id": "ae4e8b9d",
   "metadata": {},
   "outputs": [],
   "source": [
    "df.shape"
   ]
  },
  {
   "cell_type": "code",
   "execution_count": null,
   "id": "ffca0f88",
   "metadata": {},
   "outputs": [],
   "source": [
    "%%time\n",
    "\n",
    "y = np.log(donnees[\"Household possessions: Refrigerator\"])\n",
    "X =np.array(df)\n",
    "sc = StandardScaler()\n",
    "sc.fit(X)\n",
    "X = sc.transform(X)\n",
    "x_train, x_test, y_train, y_test = train_test_split(X, y, test_size = 0.2, shuffle=True, random_state = 0)\n",
    "param_grid = [\n",
    "        {'alpha': np.linspace(0,1,100), 'l1_ratio': [.1, .2, .3, .4, .5, .6, .7, .8, .9, 1]},\n",
    "]\n",
    "\n",
    "\n",
    "grid_search = GridSearchCV(ElasticNet(), param_grid, cv=3,\n",
    "                               scoring='r2',\n",
    "                               return_train_score=True)\n",
    "grid_search.fit(x_train, y_train)\n",
    "\n",
    "print(grid_search.best_estimator_)\n",
    "print(grid_search.best_score_)\n",
    "print(grid_search.score(x_test, y_test))"
   ]
  },
  {
   "cell_type": "code",
   "execution_count": null,
   "id": "990b4067",
   "metadata": {},
   "outputs": [],
   "source": [
    "%%time\n",
    "\n",
    "alpha = grid_search.best_estimator_.alpha\n",
    "l1_ratio = grid_search.best_estimator_.l1_ratio\n",
    "\n",
    "\n",
    "regr = ElasticNet(random_state=0,alpha=alpha, l1_ratio=l1_ratio)\n",
    "regr.fit(x_train, y_train)\n",
    "\n",
    "print(\"r2_train : \")\n",
    "print(100*regr.score(x_train, y_train))\n",
    "\n",
    "y_pred = regr.predict(x_test)\n",
    "y_true = y_test\n",
    "print(\"\\n r2_test : \")\n",
    "print(100*r2_score(y_true, y_pred))\n",
    "\n",
    "coef = pd.Series(regr.coef_, index = df.columns)\n",
    "serie = pd.Series(coef[coef!=0])\n",
    "print(\"Nombre de variables sélectionnées :\")\n",
    "print(len(serie))\n",
    "\n",
    "# print(\"Liste des variables sélectionnées :\")\n",
    "# print(list(serie.index))"
   ]
  },
  {
   "cell_type": "code",
   "execution_count": null,
   "id": "395ff5d5",
   "metadata": {},
   "outputs": [],
   "source": [
    "my_df = donnees[[\"id_district\", \"Household possessions: Refrigerator\"]]\n",
    "my_df[\"Household possessions: Refrigerator predicted\"] = regr.predict(X)\n",
    "my_df[[\"Household possessions: Refrigerator\", \"Household possessions: Refrigerator predicted\"]].corr()"
   ]
  },
  {
   "cell_type": "code",
   "execution_count": null,
   "id": "5e616471",
   "metadata": {},
   "outputs": [],
   "source": [
    "%%time\n",
    "r2_train = []\n",
    "r2_test = []\n",
    "l_alpha = []\n",
    "l_serie = []\n",
    "l_taille = []\n",
    "l_var = []\n",
    "\n",
    "for alpha in np.linspace(0,1,100):\n",
    "    regr = ElasticNet(random_state=0,alpha=alpha, l1_ratio=l1_ratio)\n",
    "    regr.fit(x_train, y_train)\n",
    "    coef = pd.Series(regr.coef_, index = donnees.columns[1:2314])\n",
    "    serie = pd.Series(coef[coef!=0])\n",
    "    r2_train.append(100*regr.score(x_train, y_train))\n",
    "    y_pred = regr.predict(x_test)\n",
    "    y_true = y_test\n",
    "    r2_test.append(100*r2_score(y_true, y_pred))\n",
    "    l_alpha.append(alpha)\n",
    "    l_serie.append(serie)\n",
    "    l_taille.append(len(serie))\n",
    "     #l_var.append(v_y)\n",
    "        \n",
    "df_rsquare = pd.DataFrame({\n",
    "        #'VariableDemographique':l_var, \n",
    "        'r2_train':r2_train, \n",
    "        'r2_test':r2_test, \n",
    "        'alpha':l_alpha,\n",
    "        'nb_variables': l_taille})\n",
    "\n",
    "df_rsquare.sort_values(by=\"r2_test\", ascending=False).head()"
   ]
  },
  {
   "cell_type": "code",
   "execution_count": null,
   "id": "cb27917b",
   "metadata": {},
   "outputs": [],
   "source": [
    "Refrigerator = df_rsquare\n",
    "Refrigerator = Refrigerator[Refrigerator[\"r2_test\"]>=0]\n",
    "Refrigerator = Refrigerator.sort_values(by=\"nb_variables\")\n",
    "fig, ax = plt.subplots()\n",
    "Refrigerator.plot(x = 'nb_variables', y = 'r2_train', ax = ax, color=\"red\",ylabel=\"R2 score\", ylim=(0,100), xlim=(0,120))\n",
    "Refrigerator.plot(x = 'nb_variables', y = 'r2_test', ax = ax, color=\"blue\")\n",
    "plt.axvline(x=18, ymax=0.6404, ls='--', lw=0.75, c=\"gray\")\n",
    "plt.axhline(y=64.04, xmax=18/120, ls='--', lw=0.75, c=\"gray\")\n",
    "plt.axhline(y=59.67, xmax=18/120, ls='--', lw=0.75, c=\"green\")\n",
    "plt.axvline(x=52, ls='--', lw=0.75, c=\"y\")"
   ]
  },
  {
   "cell_type": "code",
   "execution_count": null,
   "id": "c7d94585",
   "metadata": {},
   "outputs": [],
   "source": [
    "fig.savefig(\"../resultats_graphiques/refrigerateur.png\")"
   ]
  },
  {
   "cell_type": "code",
   "execution_count": null,
   "id": "1eb35c84",
   "metadata": {},
   "outputs": [],
   "source": [
    "%%time\n",
    "\n",
    "r2_test_max=Refrigerator[\"r2_test\"].max()\n",
    "\n",
    "alpha = Refrigerator[Refrigerator[\"r2_test\"]==r2_test_max][\"alpha\"].values[0]\n",
    "l1_ratio = grid_search.best_estimator_.l1_ratio\n",
    "\n",
    "\n",
    "regr = ElasticNet(random_state=0,alpha=alpha, l1_ratio=l1_ratio)\n",
    "regr.fit(x_train, y_train)\n",
    "\n",
    "print(\"r2_train : \")\n",
    "print(100*regr.score(x_train, y_train))\n",
    "\n",
    "y_pred = regr.predict(x_test)\n",
    "y_true = y_test\n",
    "print(\"\\n r2_test : \")\n",
    "print(100*r2_score(y_true, y_pred))\n",
    "\n",
    "coef = pd.Series(regr.coef_, index = df.columns)\n",
    "serie = pd.Series(coef[coef!=0])\n",
    "print(\"Nombre de variables sélectionnées :\")\n",
    "print(len(serie))\n",
    "\n",
    "# print(\"Liste des variables sélectionnées :\")\n",
    "# print(list(serie.index))"
   ]
  },
  {
   "cell_type": "code",
   "execution_count": null,
   "id": "fc7e40e3",
   "metadata": {},
   "outputs": [],
   "source": [
    "my_df = donnees[[\"id_district\", \"Household possessions: Refrigerator\"]]\n",
    "my_df[\"Household possessions: Refrigerator predicted\"] = regr.predict(X)\n",
    "my_df[[\"Household possessions: Refrigerator\", \"Household possessions: Refrigerator predicted\"]].corr()"
   ]
  },
  {
   "cell_type": "code",
   "execution_count": null,
   "id": "ea0a22e1",
   "metadata": {},
   "outputs": [],
   "source": [
    "cdr_refrigerator = list(serie.index)\n",
    "cdr_refrigerator = pd.DataFrame({\"cdr_refrigerator\":cdr_refrigerator})\n",
    "cdr_refrigerator.to_csv(\"../resultats_tableaux/cdr_refrigerator.csv\",index=False)"
   ]
  },
  {
   "cell_type": "code",
   "execution_count": null,
   "id": "412a2541",
   "metadata": {},
   "outputs": [],
   "source": [
    "plt.hist(my_df[\"Household possessions: Refrigerator\"])"
   ]
  },
  {
   "cell_type": "code",
   "execution_count": null,
   "id": "b8d829e6",
   "metadata": {},
   "outputs": [],
   "source": [
    "plt.hist(np.log(my_df[\"Household possessions: Refrigerator\"]))"
   ]
  },
  {
   "cell_type": "code",
   "execution_count": null,
   "id": "67b2e38f",
   "metadata": {},
   "outputs": [],
   "source": [
    "%%time\n",
    "\n",
    "y = np.log(donnees[\"Household possessions: Refrigerator\"])\n",
    "X =np.array(df)\n",
    "sc = StandardScaler()\n",
    "sc.fit(X)\n",
    "X = sc.transform(X)\n",
    "x_train, x_test, y_train, y_test = train_test_split(X, y, test_size = 0.2, shuffle=True, random_state = 0)\n",
    "param_grid = [\n",
    "        {'alpha': np.linspace(0,1,100), 'l1_ratio': [.1, .2, .3, .4, .5, .6, .7, .8, .9, 1]},\n",
    "]\n",
    "\n",
    "\n",
    "grid_search = GridSearchCV(ElasticNet(), param_grid, cv=3,\n",
    "                               scoring='r2',\n",
    "                               return_train_score=True)\n",
    "grid_search.fit(x_train, y_train)\n",
    "\n",
    "print(grid_search.best_estimator_)\n",
    "print(grid_search.best_score_)\n",
    "print(grid_search.score(x_test, y_test))"
   ]
  },
  {
   "cell_type": "code",
   "execution_count": null,
   "id": "aca38cd7",
   "metadata": {},
   "outputs": [],
   "source": [
    "%%time\n",
    "\n",
    "cv = KFold(3, random_state=0, shuffle=True)\n",
    "df = donnees.iloc[:,1:2314]\n",
    "\n",
    "y = np.log(donnees[\"Household possessions: Refrigerator\"])\n",
    "sc = StandardScaler()\n",
    "X =np.array(df)\n",
    "sc.fit(X)\n",
    "X = sc.transform(X)\n",
    "x_train, x_test, y_train, y_test = train_test_split(X, y, test_size = 0.2, shuffle=True, random_state = 0)\n",
    "alpha = grid_search.best_estimator_.alpha\n",
    "l1_ratio = grid_search.best_estimator_.l1_ratio\n",
    "\n",
    "\n",
    "regr = ElasticNet(random_state=0,alpha=alpha, l1_ratio=l1_ratio)\n",
    "regr.fit(x_train, y_train)\n",
    "\n",
    "print(\"r2_train : \")\n",
    "print(100*regr.score(x_train, y_train))\n",
    "\n",
    "y_pred = regr.predict(x_test)\n",
    "y_true = y_test\n",
    "print(\"\\n r2_test : \")\n",
    "print(100*r2_score(y_true, y_pred))\n",
    "\n",
    "coef = pd.Series(regr.coef_, index = df.columns)\n",
    "serie = pd.Series(coef[coef!=0])\n",
    "print(\"Nombre de variables sélectionnées :\")\n",
    "print(len(serie))\n",
    "\n",
    "# print(\"Liste des variables sélectionnées :\")\n",
    "# print(list(serie.index))"
   ]
  },
  {
   "cell_type": "code",
   "execution_count": null,
   "id": "04ba83fb",
   "metadata": {},
   "outputs": [],
   "source": [
    "my_df = donnees[[\"id_district\", \"Household possessions: Refrigerator\"]]\n",
    "my_df[\"Log Household possessions: Refrigerator predicted\"] = regr.predict(X)\n",
    "my_df"
   ]
  },
  {
   "cell_type": "code",
   "execution_count": null,
   "id": "e4e3c42a",
   "metadata": {},
   "outputs": [],
   "source": [
    "my_df[[\"Household possessions: Refrigerator\", \"Log Household possessions: Refrigerator predicted\"]].corr()"
   ]
  },
  {
   "cell_type": "code",
   "execution_count": null,
   "id": "2497c17a",
   "metadata": {},
   "outputs": [],
   "source": [
    "my_df[\"Household possessions: Refrigerator predicted\"] = np.exp(my_df[\"Log Household possessions: Refrigerator predicted\"])"
   ]
  },
  {
   "cell_type": "code",
   "execution_count": null,
   "id": "78cdc59a",
   "metadata": {},
   "outputs": [],
   "source": [
    "my_df"
   ]
  },
  {
   "cell_type": "code",
   "execution_count": null,
   "id": "bfe24d09",
   "metadata": {},
   "outputs": [],
   "source": [
    "my_df[[\"Household possessions: Refrigerator\", \"Log Household possessions: Refrigerator predicted\"]].corr()"
   ]
  },
  {
   "cell_type": "code",
   "execution_count": null,
   "id": "cdb9ba40",
   "metadata": {},
   "outputs": [],
   "source": [
    "plt.subplot(1, 2, 1) \n",
    "plt.hist(my_df[\"Household possessions: Refrigerator\"])\n",
    "plt.title(\"Refrigerator\")\n",
    "plt.xlabel('X-axis ')\n",
    "plt.ylabel('Y-axis ')\n",
    "\n",
    "plt.subplot(1, 2, 2) \n",
    "plt.hist(np.log(my_df[\"Household possessions: Refrigerator\"]))\n",
    "plt.title(\"Log Refrigerator\")\n",
    "plt.xlabel('X-axis ')\n",
    "#plt.ylabel('Y-axis ')\n",
    "\n",
    "plt.show()"
   ]
  },
  {
   "cell_type": "code",
   "execution_count": null,
   "id": "46f21fff",
   "metadata": {},
   "outputs": [],
   "source": [
    "%%time\n",
    "\n",
    "y = np.log(donnees[\"Household possessions: Refrigerator\"])\n",
    "X =np.array(df)\n",
    "sc = StandardScaler()\n",
    "sc.fit(X)\n",
    "X = sc.transform(X)\n",
    "x_train, x_test, y_train, y_test = train_test_split(X, y, test_size = 0.2, shuffle=True, random_state = 0)\n",
    "param_grid = [\n",
    "        {'alpha': np.linspace(0,1,100), 'l1_ratio': [.1, .2, .3, .4, .5, .6, .7, .8, .9, 1]},\n",
    "]\n",
    "\n",
    "\n",
    "grid_search = GridSearchCV(ElasticNet(), param_grid, cv=3,\n",
    "                               scoring='r2',\n",
    "                               return_train_score=True)\n",
    "grid_search.fit(x_train, y_train)\n",
    "\n",
    "print(grid_search.best_estimator_)\n",
    "print(grid_search.best_score_)\n",
    "print(grid_search.score(x_test, y_test))"
   ]
  },
  {
   "cell_type": "code",
   "execution_count": null,
   "id": "b252a027",
   "metadata": {},
   "outputs": [],
   "source": []
  }
 ],
 "metadata": {
  "kernelspec": {
   "display_name": "Python 3 (ipykernel)",
   "language": "python",
   "name": "python3"
  },
  "language_info": {
   "codemirror_mode": {
    "name": "ipython",
    "version": 3
   },
   "file_extension": ".py",
   "mimetype": "text/x-python",
   "name": "python",
   "nbconvert_exporter": "python",
   "pygments_lexer": "ipython3",
   "version": "3.9.13"
  }
 },
 "nbformat": 4,
 "nbformat_minor": 5
}
