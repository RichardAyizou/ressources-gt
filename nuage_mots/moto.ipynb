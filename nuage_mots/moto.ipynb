{
 "cells": [
  {
   "cell_type": "code",
   "execution_count": null,
   "id": "849e690c",
   "metadata": {},
   "outputs": [],
   "source": [
    "import nltk\n",
    "from nltk.corpus import stopwords\n",
    "from nltk.stem.snowball import FrenchStemmer\n",
    "import matplotlib.pyplot as plt\n",
    "from wordcloud import WordCloud\n",
    "\n",
    "# Load and displays the text\n",
    "with open('cdr_moto.txt', encoding='utf8') as f:\n",
    "    contents = f.read()\n",
    "    print(contents)\n"
   ]
  },
  {
   "cell_type": "code",
   "execution_count": null,
   "id": "c600e638",
   "metadata": {},
   "outputs": [],
   "source": [
    "# Functions to be used for text processing and draw word cloud\n",
    "def load_file(filename):\n",
    "    file = open(filename, 'r', encoding='utf-8')\n",
    "    text = file.read()\n",
    "    file.close()\n",
    "    return text\n",
    "\n",
    "def save_list(lines, filename):\n",
    "    data = '\\n'.join(lines)\n",
    "    file = open(filename, 'w', encoding='utf-8')\n",
    "    file.write(data)\n",
    "    file.close()\n",
    "\n",
    "def display_wordcloud(corpus, title=\"\"):\n",
    "    plt.figure(figsize=(10, 5))\n",
    "    wc = WordCloud(background_color=\"white\",\n",
    "                   max_words=1000,\n",
    "                   colormap='hsv',\n",
    "                   collocations=False)\n",
    "    wc.generate_from_text(corpus)\n",
    "    plt.imshow(wc, interpolation=\"bilinear\")\n",
    "    plt.title(title)\n",
    "    plt.axis(\"off\");\n"
   ]
  },
  {
   "cell_type": "code",
   "execution_count": null,
   "id": "193e8c3d",
   "metadata": {},
   "outputs": [],
   "source": [
    "# Load file\n",
    "filename = 'cdr_moto.txt'\n",
    "text = load_file(filename)\n",
    "\n",
    "# Token\n",
    "tokenizer = nltk.RegexpTokenizer(r'\\w+')\n",
    "tokens = tokenizer.tokenize(text.lower())\n",
    "\n",
    "# Delete short word : can modify the length\n",
    "tokens = [word for word in tokens if len(word) > 2]\n",
    "\n",
    "# Create vocab\n",
    "vocab = nltk.Counter()\n",
    "vocab.update(tokens)\n",
    "save_list(tokens, \"vocab.txt\")\n",
    "\n",
    "# Most common words : can modify the number\n",
    "print(vocab.most_common(50))\n"
   ]
  },
  {
   "cell_type": "code",
   "execution_count": null,
   "id": "432556e9",
   "metadata": {},
   "outputs": [],
   "source": [
    "# Load file\n",
    "filename = 'cdr_moto.txt'\n",
    "text = load_file(filename)\n",
    "\n",
    "# Token\n",
    "tokenizer = nltk.RegexpTokenizer(r'\\w+')\n",
    "tokens = tokenizer.tokenize(text.lower())\n",
    "\n",
    "#Stop word\n",
    "stop_words = [\"voice\", \"call\", \"msg\", \"text\", \"min\", \"max\", \"log\", \"moyen\", \"sqrt\", \"duree\"]\n",
    "tokens = [w for w in tokens if not w in stop_words]\n",
    "\n",
    "# Delete short word : can modify the length\n",
    "tokens = [word for word in tokens if len(word) > 2]\n",
    "\n",
    "# Create vocab\n",
    "vocab = nltk.Counter()\n",
    "vocab.update(tokens)\n",
    "save_list(tokens, \"vocab.txt\")\n",
    "\n",
    "# Most common words : can modify the number\n",
    "print(vocab.most_common(50))\n"
   ]
  },
  {
   "cell_type": "code",
   "execution_count": null,
   "id": "e8d4a6b8",
   "metadata": {},
   "outputs": [],
   "source": [
    "def display_wordcloud(corpus, title=\"\"):\n",
    "    plt.figure(figsize=(10, 5))\n",
    "    wc = WordCloud(background_color=\"black\",\n",
    "                   max_words=1000,\n",
    "                   colormap='Oranges_r',\n",
    "                   collocations=False)\n",
    "    wc.generate_from_text(corpus)\n",
    "    plt.imshow(wc, interpolation=\"bilinear\")\n",
    "    plt.title(title)\n",
    "    plt.axis(\"off\");\n",
    "    \n",
    "\n",
    "display_wordcloud(corpus=corpus, title=\"\")"
   ]
  },
  {
   "cell_type": "code",
   "execution_count": null,
   "id": "dff72609",
   "metadata": {},
   "outputs": [],
   "source": []
  }
 ],
 "metadata": {
  "kernelspec": {
   "display_name": "Python 3 (ipykernel)",
   "language": "python",
   "name": "python3"
  },
  "language_info": {
   "codemirror_mode": {
    "name": "ipython",
    "version": 3
   },
   "file_extension": ".py",
   "mimetype": "text/x-python",
   "name": "python",
   "nbconvert_exporter": "python",
   "pygments_lexer": "ipython3",
   "version": "3.9.13"
  }
 },
 "nbformat": 4,
 "nbformat_minor": 5
}
